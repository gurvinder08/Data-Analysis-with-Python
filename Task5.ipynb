{
  "nbformat": 4,
  "nbformat_minor": 0,
  "metadata": {
    "colab": {
      "name": "Task5.ipynb",
      "provenance": []
    },
    "kernelspec": {
      "name": "python3",
      "display_name": "Python 3"
    },
    "language_info": {
      "name": "python"
    }
  },
  "cells": [
    {
      "cell_type": "markdown",
      "metadata": {
        "id": "a6HAF_13hxww"
      },
      "source": [
        "Task-5"
      ]
    },
    {
      "cell_type": "code",
      "metadata": {
        "id": "jasREFJ-btRT"
      },
      "source": [
        "import numpy as np\n",
        "import matplotlib.pyplot as plt"
      ],
      "execution_count": 1,
      "outputs": []
    },
    {
      "cell_type": "code",
      "metadata": {
        "id": "2ZT8eEuTgBdU"
      },
      "source": [
        "x=np.array(['6am','7am','8am','9am','10am','11am','12pm','1pm','2pm','3pm','4pm','5pm','6pm','7pm','8pm','9pm','10pm'])\n",
        "y=np.array([5,3,1,3,4,4,3,2,2,3,3,4,4,3,4,2,2])"
      ],
      "execution_count": 2,
      "outputs": []
    },
    {
      "cell_type": "code",
      "metadata": {
        "colab": {
          "base_uri": "https://localhost:8080/",
          "height": 279
        },
        "id": "sr9p9ZQbd4EM",
        "outputId": "8afb4853-e008-4a0f-d867-5b6f516520d3"
      },
      "source": [
        "plt.bar(x,y, color='maroon')\n",
        "plt.xlabel('Time')\n",
        "plt.ylabel('Productivity')\n",
        "plt.show()"
      ],
      "execution_count": 3,
      "outputs": [
        {
          "output_type": "display_data",
          "data": {
            "image/png": "[encoded data removed]",
            "text/plain": [
              "<Figure size 432x288 with 1 Axes>"
            ]
          },
          "metadata": {
            "tags": [],
            "needs_background": "light"
          }
        }
      ]
    }
  ]
}