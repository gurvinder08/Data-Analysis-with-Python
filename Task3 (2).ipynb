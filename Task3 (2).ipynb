{
  "nbformat": 4,
  "nbformat_minor": 0,
  "metadata": {
    "colab": {
      "name": "Task3.ipynb",
      "provenance": []
    },
    "kernelspec": {
      "name": "python3",
      "display_name": "Python 3"
    },
    "language_info": {
      "name": "python"
    }
  },
  "cells": [
    {
      "cell_type": "markdown",
      "metadata": {
        "id": "gGkW1qjXcuKE"
      },
      "source": [
        "**Task 3**"
      ]
    },
    {
      "cell_type": "code",
      "metadata": {
        "id": "sW8NYBvuEUBg"
      },
      "source": [
        "E={8,0,6,2,4}\n",
        "N={1,2,3,4,5}"
      ],
      "execution_count": 1,
      "outputs": []
    },
    {
      "cell_type": "code",
      "metadata": {
        "colab": {
          "base_uri": "https://localhost:8080/"
        },
        "id": "ThSPIxbwFc-t",
        "outputId": "3891928f-11dc-47d9-dd0e-5273fedbc21e"
      },
      "source": [
        "#Union of E and N\n",
        "U=E.union(N)\n",
        "print(U)"
      ],
      "execution_count": 2,
      "outputs": [
        {
          "output_type": "stream",
          "text": [
            "{0, 1, 2, 3, 4, 5, 6, 8}\n"
          ],
          "name": "stdout"
        }
      ]
    },
    {
      "cell_type": "code",
      "metadata": {
        "colab": {
          "base_uri": "https://localhost:8080/"
        },
        "id": "baMLa3kWFywI",
        "outputId": "261a2078-dc3a-4f95-bfbe-a44cdbcab02e"
      },
      "source": [
        "# Intersection\n",
        "I=E.intersection(N)\n",
        "print(I)"
      ],
      "execution_count": 3,
      "outputs": [
        {
          "output_type": "stream",
          "text": [
            "{2, 4}\n"
          ],
          "name": "stdout"
        }
      ]
    },
    {
      "cell_type": "code",
      "metadata": {
        "id": "E2z-yp-2GBa8",
        "colab": {
          "base_uri": "https://localhost:8080/"
        },
        "outputId": "fdadbdca-59c9-4628-8c44-43848d57b989"
      },
      "source": [
        "#Difference\n",
        "D=E.difference(N)\n",
        "print(D)"
      ],
      "execution_count": 4,
      "outputs": [
        {
          "output_type": "stream",
          "text": [
            "{0, 8, 6}\n"
          ],
          "name": "stdout"
        }
      ]
    },
    {
      "cell_type": "code",
      "metadata": {
        "colab": {
          "base_uri": "https://localhost:8080/"
        },
        "id": "0qghnc1wcYdI",
        "outputId": "dbf094ab-6f2b-4b72-ab90-b6cf4c8e0ead"
      },
      "source": [
        "#Symmetric Difference\n",
        "S=E.symmetric_difference(N)\n",
        "print(S)"
      ],
      "execution_count": 5,
      "outputs": [
        {
          "output_type": "stream",
          "text": [
            "{0, 1, 3, 5, 6, 8}\n"
          ],
          "name": "stdout"
        }
      ]
    }
  ]
}