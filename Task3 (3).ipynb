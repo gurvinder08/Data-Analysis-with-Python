{
  "nbformat": 4,
  "nbformat_minor": 0,
  "metadata": {
    "colab": {
      "name": "Task3.ipynb",
      "provenance": []
    },
    "kernelspec": {
      "name": "python3",
      "display_name": "Python 3"
    },
    "language_info": {
      "name": "python"
    }
  },
  "cells": [
    {
      "cell_type": "markdown",
      "metadata": {
        "id": "4URDe9xRdR8x"
      },
      "source": [
        "Task 3"
      ]
    },
    {
      "cell_type": "markdown",
      "metadata": {
        "id": "_vb8lcwhjZTL"
      },
      "source": [
        "1) Create random data from 10, 100\n",
        "    - rows should be 10\n",
        "    - columns should 4\n",
        "    - all the data should be integers\n",
        "\n",
        "2) Compute the percentage value in the data\n",
        "    - 4's percentage is 0.04\n",
        "    - this should be implemented for the entire data frame\n",
        "    - use apply() or map()\n",
        "\n",
        "3) Replace values that are less than 50 with the square root of itself\n",
        "    - implement this for the entire data\n",
        "    - use apply() or map()\n",
        "    - you should use conditions here\n",
        "\n",
        "4) How do implement the 3rd task without using apply() and map() in just one line?"
      ]
    },
    {
      "cell_type": "code",
      "metadata": {
        "id": "cEimmUfNdBPW"
      },
      "source": [
        "import numpy as np\n",
        "import pandas as pd"
      ],
      "execution_count": null,
      "outputs": []
    },
    {
      "cell_type": "code",
      "metadata": {
        "colab": {
          "base_uri": "https://localhost:8080/"
        },
        "id": "xZfIHUnqiNAg",
        "outputId": "e7eff1bc-0a8d-4159-fb69-045ab08d7409"
      },
      "source": [
        "a=np.random.randint(10,100,size=(10,4))\n",
        "print(a)"
      ],
      "execution_count": null,
      "outputs": [
        {
          "output_type": "stream",
          "text": [
            "[[12 77 85 60]\n",
            " [48 11 49 23]\n",
            " [89 29 61 73]\n",
            " [27 28 56 48]\n",
            " [63 22 79 59]\n",
            " [23 58 47 71]\n",
            " [54 21 92 81]\n",
            " [70 96 99 29]\n",
            " [35 74 97 90]\n",
            " [35 87 26 40]]\n"
          ],
          "name": "stdout"
        }
      ]
    },
    {
      "cell_type": "code",
      "metadata": {
        "colab": {
          "base_uri": "https://localhost:8080/"
        },
        "id": "vbkZRiMzrZph",
        "outputId": "75647e9b-22d7-4e50-a49f-20e0448df2ec"
      },
      "source": [
        "#1\n",
        "df=pd.DataFrame(a)\n",
        "print(df)"
      ],
      "execution_count": null,
      "outputs": [
        {
          "output_type": "stream",
          "text": [
            "    0   1   2   3\n",
            "0  12  77  85  60\n",
            "1  48  11  49  23\n",
            "2  89  29  61  73\n",
            "3  27  28  56  48\n",
            "4  63  22  79  59\n",
            "5  23  58  47  71\n",
            "6  54  21  92  81\n",
            "7  70  96  99  29\n",
            "8  35  74  97  90\n",
            "9  35  87  26  40\n"
          ],
          "name": "stdout"
        }
      ]
    },
    {
      "cell_type": "code",
      "metadata": {
        "colab": {
          "base_uri": "https://localhost:8080/"
        },
        "id": "-N0dheX7sy2Y",
        "outputId": "6a873d16-bfb4-464b-d86e-24e41303f1fd"
      },
      "source": [
        "#2\n",
        "def percentage(x):\n",
        "  return x/100\n",
        "\n",
        "percent=df.apply(percentage, axis=0)\n",
        "print(percent)"
      ],
      "execution_count": null,
      "outputs": [
        {
          "output_type": "stream",
          "text": [
            "      0     1     2     3\n",
            "0  0.12  0.77  0.85  0.60\n",
            "1  0.48  0.11  0.49  0.23\n",
            "2  0.89  0.29  0.61  0.73\n",
            "3  0.27  0.28  0.56  0.48\n",
            "4  0.63  0.22  0.79  0.59\n",
            "5  0.23  0.58  0.47  0.71\n",
            "6  0.54  0.21  0.92  0.81\n",
            "7  0.70  0.96  0.99  0.29\n",
            "8  0.35  0.74  0.97  0.90\n",
            "9  0.35  0.87  0.26  0.40\n"
          ],
          "name": "stdout"
        }
      ]
    },
    {
      "cell_type": "code",
      "metadata": {
        "colab": {
          "base_uri": "https://localhost:8080/"
        },
        "id": "olLK9nZ_u0QH",
        "outputId": "161aa8fd-1b93-453b-edeb-574c7994c1de"
      },
      "source": [
        "#3\n",
        "r=pd.DataFrame()\n",
        "for i in df:\n",
        "  r[i]=df[i].apply(lambda x: x if x>50 else np.sqrt(x))\n",
        "print(r)"
      ],
      "execution_count": null,
      "outputs": [
        {
          "output_type": "stream",
          "text": [
            "           0          1          2          3\n",
            "0   3.464102  77.000000  85.000000  60.000000\n",
            "1   6.928203   3.316625   7.000000   4.795832\n",
            "2  89.000000   5.385165  61.000000  73.000000\n",
            "3   5.196152   5.291503  56.000000   6.928203\n",
            "4  63.000000   4.690416  79.000000  59.000000\n",
            "5   4.795832  58.000000   6.855655  71.000000\n",
            "6  54.000000   4.582576  92.000000  81.000000\n",
            "7  70.000000  96.000000  99.000000   5.385165\n",
            "8   5.916080  74.000000  97.000000  90.000000\n",
            "9   5.916080  87.000000   5.099020   6.324555\n"
          ],
          "name": "stdout"
        }
      ]
    },
    {
      "cell_type": "code",
      "metadata": {
        "colab": {
          "base_uri": "https://localhost:8080/"
        },
        "id": "zHAR8VAWIo0z",
        "outputId": "0a587f83-12dd-4698-c646-f7ddd0de8883"
      },
      "source": [
        "#4\n",
        "t=pd.DataFrame()\n",
        "t=df.applymap(lambda x: x if x>50 else np.sqrt(x))\n",
        "print(t)"
      ],
      "execution_count": null,
      "outputs": [
        {
          "output_type": "stream",
          "text": [
            "           0          1          2          3\n",
            "0   3.464102  77.000000  85.000000  60.000000\n",
            "1   6.928203   3.316625   7.000000   4.795832\n",
            "2  89.000000   5.385165  61.000000  73.000000\n",
            "3   5.196152   5.291503  56.000000   6.928203\n",
            "4  63.000000   4.690416  79.000000  59.000000\n",
            "5   4.795832  58.000000   6.855655  71.000000\n",
            "6  54.000000   4.582576  92.000000  81.000000\n",
            "7  70.000000  96.000000  99.000000   5.385165\n",
            "8   5.916080  74.000000  97.000000  90.000000\n",
            "9   5.916080  87.000000   5.099020   6.324555\n"
          ],
          "name": "stdout"
        }
      ]
    }
  ]
}